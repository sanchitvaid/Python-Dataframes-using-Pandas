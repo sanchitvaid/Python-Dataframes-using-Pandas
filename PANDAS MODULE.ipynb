{
 "cells": [
  {
   "cell_type": "code",
   "execution_count": 2,
   "id": "db038048",
   "metadata": {},
   "outputs": [
    {
     "name": "stdout",
     "output_type": "stream",
     "text": [
      "0    a\n",
      "1    b\n",
      "2    c\n",
      "3    d\n",
      "4    e\n",
      "5    f\n",
      "dtype: object\n"
     ]
    }
   ],
   "source": [
    "import math \n",
    "\n",
    "import numpy as np\n",
    "\n",
    "import pandas as pd\n",
    "\n",
    "\n",
    "#CREATING SERIES FROM LIST\n",
    "\n",
    "a = pd.Series(list('abcdef'))\n",
    "\n",
    "print(a)"
   ]
  },
  {
   "cell_type": "code",
   "execution_count": 3,
   "id": "a867066f",
   "metadata": {},
   "outputs": [
    {
     "name": "stdout",
     "output_type": "stream",
     "text": [
      "0      INDIA\n",
      "1      CHINA\n",
      "2        USA\n",
      "3     RUSSIA\n",
      "4     FRANCE\n",
      "5    GERMANY\n",
      "dtype: object\n"
     ]
    }
   ],
   "source": [
    "#CREATING SEERIES FROM ARRAY\n",
    "\n",
    "a = np.array(['INDIA','CHINA','USA','RUSSIA','FRANCE','GERMANY'])\n",
    "\n",
    "print(pd.Series(a))"
   ]
  },
  {
   "cell_type": "code",
   "execution_count": 40,
   "id": "62a29aca",
   "metadata": {},
   "outputs": [
    {
     "name": "stdout",
     "output_type": "stream",
     "text": [
      "PER CAPITA INCOME IN DOLLARS\n",
      "\n",
      "\n",
      "INDIA      100\n",
      "CHINA      250\n",
      "USA        350\n",
      "RUSSIA     300\n",
      "FRANCE     400\n",
      "GERMANY    450\n",
      "dtype: int64\n"
     ]
    }
   ],
   "source": [
    "#CREATING SERIES USING DICTIONARY\n",
    "\n",
    "a = pd.Series([100,250,350,300,400,450], index = ['INDIA','CHINA','USA','RUSSIA','FRANCE','GERMANY'])\n",
    "\n",
    "print('PER CAPITA INCOME IN DOLLARS')\n",
    "print('\\n')\n",
    "print(a)"
   ]
  },
  {
   "cell_type": "code",
   "execution_count": 8,
   "id": "1dcced71",
   "metadata": {},
   "outputs": [
    {
     "name": "stdout",
     "output_type": "stream",
     "text": [
      "INDIA      5\n",
      "CHINA      5\n",
      "USA        5\n",
      "RUSSIA     5\n",
      "FRANCE     5\n",
      "GERMANY    5\n",
      "dtype: int64\n"
     ]
    }
   ],
   "source": [
    "#CREATING SERIES USING SCALAR\n",
    "\n",
    "a = pd.Series(5, index = ['INDIA','CHINA','USA','RUSSIA','FRANCE','GERMANY'] )  #PASSES THE VALUE 5 TO EVERY INDEX\n",
    "print(a)"
   ]
  },
  {
   "cell_type": "code",
   "execution_count": 3,
   "id": "8582c388",
   "metadata": {},
   "outputs": [
    {
     "name": "stdout",
     "output_type": "stream",
     "text": [
      "INDIA      100\n",
      "CHINA      250\n",
      "USA        350\n",
      "RUSSIA     300\n",
      "FRANCE     400\n",
      "GERMANY    450\n",
      "dtype: int64\n",
      "\n",
      "\n",
      "350\n",
      "\n",
      "\n",
      "INDIA     100\n",
      "CHINA     250\n",
      "USA       350\n",
      "RUSSIA    300\n",
      "dtype: int64\n",
      "\n",
      "\n",
      "350\n",
      "350\n"
     ]
    }
   ],
   "source": [
    "#ASSESSING ELEMENTS IN A SERIES\n",
    "\n",
    "a = pd.Series([100,250,350,300,400,450], index = ['INDIA','CHINA','USA','RUSSIA','FRANCE','GERMANY'])\n",
    "\n",
    "print(a)\n",
    "\n",
    "print('\\n')\n",
    "\n",
    "print(a[2])\n",
    "\n",
    "print('\\n')\n",
    "\n",
    "print(a[0:4])\n",
    "\n",
    "print('\\n')\n",
    "\n",
    "print(a.loc['USA'])\n",
    "print(a.iloc[2])"
   ]
  },
  {
   "cell_type": "code",
   "execution_count": 31,
   "id": "1e50e92a",
   "metadata": {},
   "outputs": [
    {
     "name": "stdout",
     "output_type": "stream",
     "text": [
      "a    11\n",
      "b    22\n",
      "c    33\n",
      "d    44\n",
      "dtype: int64\n"
     ]
    }
   ],
   "source": [
    "#VECTORIZATION OF SERIES\n",
    "\n",
    "a = pd.Series([1,2,3,4] , index = ['a','b','c','d'])\n",
    "b = pd.Series([10,20,30,40] , index =['a','b','c','d'])\n",
    "\n",
    "print(a+b)                                             #APPLIES TO (+-*/) ALSO"
   ]
  },
  {
   "cell_type": "code",
   "execution_count": 32,
   "id": "fcc995d0",
   "metadata": {},
   "outputs": [
    {
     "data": {
      "text/plain": [
       "a    11\n",
       "b    42\n",
       "c    33\n",
       "d    24\n",
       "dtype: int64"
      ]
     },
     "execution_count": 32,
     "metadata": {},
     "output_type": "execute_result"
    }
   ],
   "source": [
    "b = pd.Series([10,20,30,40] , index =['a','d','c','b'])\n",
    "\n",
    "print(a+b)                                       #CHANGING INDICES ALSO CHANGES ELEMENT VALUES"
   ]
  },
  {
   "cell_type": "code",
   "execution_count": 34,
   "id": "d3d2173a",
   "metadata": {},
   "outputs": [
    {
     "name": "stdout",
     "output_type": "stream",
     "text": [
      "a    11.0\n",
      "b    22.0\n",
      "c     NaN\n",
      "d     NaN\n",
      "e     NaN\n",
      "f     NaN\n",
      "dtype: float64\n"
     ]
    }
   ],
   "source": [
    "c =  pd.Series([10,20,30,40] , index =['a','b','e','f'])\n",
    "\n",
    "print(a+c)                                    #PUTTING INDEX WITH NO VALUES RETURNS NaN"
   ]
  },
  {
   "cell_type": "code",
   "execution_count": null,
   "id": "ca6be7e0",
   "metadata": {},
   "outputs": [],
   "source": []
  }
 ],
 "metadata": {
  "kernelspec": {
   "display_name": "Python 3 (ipykernel)",
   "language": "python",
   "name": "python3"
  },
  "language_info": {
   "codemirror_mode": {
    "name": "ipython",
    "version": 3
   },
   "file_extension": ".py",
   "mimetype": "text/x-python",
   "name": "python",
   "nbconvert_exporter": "python",
   "pygments_lexer": "ipython3",
   "version": "3.10.5"
  }
 },
 "nbformat": 4,
 "nbformat_minor": 5
}
